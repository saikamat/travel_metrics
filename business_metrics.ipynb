{
 "cells": [
  {
   "cell_type": "markdown",
   "metadata": {},
   "source": [
    "## import packages"
   ]
  },
  {
   "cell_type": "code",
   "execution_count": 1,
   "metadata": {},
   "outputs": [],
   "source": [
    "import pandas as pd\n",
    "import numpy as np\n",
    "import matplotlib as plt\n",
    "import seaborn as sns\n",
    "\n",
    "# ignore warnings\n",
    "import warnings\n",
    "warnings.filterwarnings('ignore')"
   ]
  },
  {
   "cell_type": "code",
   "execution_count": 2,
   "metadata": {},
   "outputs": [
    {
     "data": {
      "text/html": [
       "<div>\n",
       "<style scoped>\n",
       "    .dataframe tbody tr th:only-of-type {\n",
       "        vertical-align: middle;\n",
       "    }\n",
       "\n",
       "    .dataframe tbody tr th {\n",
       "        vertical-align: top;\n",
       "    }\n",
       "\n",
       "    .dataframe thead th {\n",
       "        text-align: right;\n",
       "    }\n",
       "</style>\n",
       "<table border=\"1\" class=\"dataframe\">\n",
       "  <thead>\n",
       "    <tr style=\"text-align: right;\">\n",
       "      <th></th>\n",
       "      <th>Keyword ID</th>\n",
       "      <th>Keyword Category</th>\n",
       "      <th>Country</th>\n",
       "      <th>Device</th>\n",
       "      <th>Cost</th>\n",
       "      <th>Clicks</th>\n",
       "      <th>Revenue</th>\n",
       "      <th>RPC</th>\n",
       "      <th>CPC</th>\n",
       "      <th>ROAS</th>\n",
       "      <th>Total Clickouts</th>\n",
       "      <th>Tracked Clickouts</th>\n",
       "      <th>Tracking Coverage</th>\n",
       "      <th>Booking Value</th>\n",
       "    </tr>\n",
       "  </thead>\n",
       "  <tbody>\n",
       "    <tr>\n",
       "      <td>0</td>\n",
       "      <td>12136471</td>\n",
       "      <td>A</td>\n",
       "      <td>US</td>\n",
       "      <td>desktop</td>\n",
       "      <td>5714.33</td>\n",
       "      <td>1172</td>\n",
       "      <td>2013.58</td>\n",
       "      <td>NaN</td>\n",
       "      <td>4.875708</td>\n",
       "      <td>0.352374</td>\n",
       "      <td>926</td>\n",
       "      <td>515</td>\n",
       "      <td>0.556156</td>\n",
       "      <td>9748</td>\n",
       "    </tr>\n",
       "    <tr>\n",
       "      <td>1</td>\n",
       "      <td>91730045</td>\n",
       "      <td>A</td>\n",
       "      <td>Spain</td>\n",
       "      <td>phone</td>\n",
       "      <td>4691.94</td>\n",
       "      <td>17306</td>\n",
       "      <td>9912.34</td>\n",
       "      <td>NaN</td>\n",
       "      <td>0.271116</td>\n",
       "      <td>2.112631</td>\n",
       "      <td>13989</td>\n",
       "      <td>10587</td>\n",
       "      <td>0.756809</td>\n",
       "      <td>8313</td>\n",
       "    </tr>\n",
       "    <tr>\n",
       "      <td>2</td>\n",
       "      <td>119124300</td>\n",
       "      <td>A</td>\n",
       "      <td>US</td>\n",
       "      <td>phone</td>\n",
       "      <td>4671.65</td>\n",
       "      <td>2700</td>\n",
       "      <td>3924.61</td>\n",
       "      <td>NaN</td>\n",
       "      <td>1.730241</td>\n",
       "      <td>0.840091</td>\n",
       "      <td>1717</td>\n",
       "      <td>554</td>\n",
       "      <td>0.322656</td>\n",
       "      <td>4901</td>\n",
       "    </tr>\n",
       "    <tr>\n",
       "      <td>3</td>\n",
       "      <td>101751504</td>\n",
       "      <td>A</td>\n",
       "      <td>US</td>\n",
       "      <td>phone</td>\n",
       "      <td>2771.68</td>\n",
       "      <td>1947</td>\n",
       "      <td>2789.86</td>\n",
       "      <td>NaN</td>\n",
       "      <td>1.423564</td>\n",
       "      <td>1.006559</td>\n",
       "      <td>1247</td>\n",
       "      <td>432</td>\n",
       "      <td>0.346431</td>\n",
       "      <td>1778</td>\n",
       "    </tr>\n",
       "    <tr>\n",
       "      <td>4</td>\n",
       "      <td>12136471</td>\n",
       "      <td>A</td>\n",
       "      <td>US</td>\n",
       "      <td>phone</td>\n",
       "      <td>2743.42</td>\n",
       "      <td>1507</td>\n",
       "      <td>1999.14</td>\n",
       "      <td>NaN</td>\n",
       "      <td>1.820451</td>\n",
       "      <td>0.728704</td>\n",
       "      <td>869</td>\n",
       "      <td>441</td>\n",
       "      <td>0.507480</td>\n",
       "      <td>5658</td>\n",
       "    </tr>\n",
       "  </tbody>\n",
       "</table>\n",
       "</div>"
      ],
      "text/plain": [
       "   Keyword ID Keyword Category Country   Device     Cost  Clicks  Revenue  \\\n",
       "0    12136471                A      US  desktop  5714.33    1172  2013.58   \n",
       "1    91730045                A   Spain    phone  4691.94   17306  9912.34   \n",
       "2   119124300                A      US    phone  4671.65    2700  3924.61   \n",
       "3   101751504                A      US    phone  2771.68    1947  2789.86   \n",
       "4    12136471                A      US    phone  2743.42    1507  1999.14   \n",
       "\n",
       "   RPC       CPC      ROAS  Total Clickouts  Tracked Clickouts  \\\n",
       "0  NaN  4.875708  0.352374              926                515   \n",
       "1  NaN  0.271116  2.112631            13989              10587   \n",
       "2  NaN  1.730241  0.840091             1717                554   \n",
       "3  NaN  1.423564  1.006559             1247                432   \n",
       "4  NaN  1.820451  0.728704              869                441   \n",
       "\n",
       "   Tracking Coverage  Booking Value  \n",
       "0           0.556156           9748  \n",
       "1           0.756809           8313  \n",
       "2           0.322656           4901  \n",
       "3           0.346431           1778  \n",
       "4           0.507480           5658  "
      ]
     },
     "execution_count": 2,
     "metadata": {},
     "output_type": "execute_result"
    }
   ],
   "source": [
    "bm_data = pd.read_excel('bm.xlsx')\n",
    "bm_data.head()"
   ]
  },
  {
   "cell_type": "code",
   "execution_count": 3,
   "metadata": {},
   "outputs": [
    {
     "name": "stdout",
     "output_type": "stream",
     "text": [
      "<class 'pandas.core.frame.DataFrame'>\n",
      "RangeIndex: 478 entries, 0 to 477\n",
      "Data columns (total 14 columns):\n",
      "Keyword ID           478 non-null int64\n",
      "Keyword Category     478 non-null object\n",
      "Country              478 non-null object\n",
      "Device               478 non-null object\n",
      "Cost                 478 non-null float64\n",
      "Clicks               478 non-null int64\n",
      "Revenue              478 non-null float64\n",
      "RPC                  0 non-null float64\n",
      "CPC                  478 non-null float64\n",
      "ROAS                 478 non-null float64\n",
      "Total Clickouts      478 non-null int64\n",
      "Tracked Clickouts    478 non-null int64\n",
      "Tracking Coverage    478 non-null float64\n",
      "Booking Value        478 non-null int64\n",
      "dtypes: float64(6), int64(5), object(3)\n",
      "memory usage: 52.4+ KB\n"
     ]
    }
   ],
   "source": [
    "bm_data.info()"
   ]
  },
  {
   "cell_type": "code",
   "execution_count": 4,
   "metadata": {},
   "outputs": [
    {
     "data": {
      "text/html": [
       "<div>\n",
       "<style scoped>\n",
       "    .dataframe tbody tr th:only-of-type {\n",
       "        vertical-align: middle;\n",
       "    }\n",
       "\n",
       "    .dataframe tbody tr th {\n",
       "        vertical-align: top;\n",
       "    }\n",
       "\n",
       "    .dataframe thead th {\n",
       "        text-align: right;\n",
       "    }\n",
       "</style>\n",
       "<table border=\"1\" class=\"dataframe\">\n",
       "  <thead>\n",
       "    <tr style=\"text-align: right;\">\n",
       "      <th></th>\n",
       "      <th>Keyword ID</th>\n",
       "      <th>Cost</th>\n",
       "      <th>Clicks</th>\n",
       "      <th>Revenue</th>\n",
       "      <th>RPC</th>\n",
       "      <th>CPC</th>\n",
       "      <th>ROAS</th>\n",
       "      <th>Total Clickouts</th>\n",
       "      <th>Tracked Clickouts</th>\n",
       "      <th>Tracking Coverage</th>\n",
       "      <th>Booking Value</th>\n",
       "    </tr>\n",
       "  </thead>\n",
       "  <tbody>\n",
       "    <tr>\n",
       "      <td>count</td>\n",
       "      <td>4.780000e+02</td>\n",
       "      <td>478.000000</td>\n",
       "      <td>478.000000</td>\n",
       "      <td>478.000000</td>\n",
       "      <td>0.0</td>\n",
       "      <td>478.000000</td>\n",
       "      <td>478.000000</td>\n",
       "      <td>478.000000</td>\n",
       "      <td>478.000000</td>\n",
       "      <td>478.000000</td>\n",
       "      <td>478.000000</td>\n",
       "    </tr>\n",
       "    <tr>\n",
       "      <td>mean</td>\n",
       "      <td>4.396471e+10</td>\n",
       "      <td>409.357552</td>\n",
       "      <td>432.062762</td>\n",
       "      <td>373.196025</td>\n",
       "      <td>NaN</td>\n",
       "      <td>1.583785</td>\n",
       "      <td>0.944025</td>\n",
       "      <td>303.778243</td>\n",
       "      <td>177.163180</td>\n",
       "      <td>0.520281</td>\n",
       "      <td>807.102510</td>\n",
       "    </tr>\n",
       "    <tr>\n",
       "      <td>std</td>\n",
       "      <td>1.080848e+11</td>\n",
       "      <td>510.001194</td>\n",
       "      <td>940.962438</td>\n",
       "      <td>584.998029</td>\n",
       "      <td>NaN</td>\n",
       "      <td>1.114576</td>\n",
       "      <td>0.588439</td>\n",
       "      <td>722.754712</td>\n",
       "      <td>531.318926</td>\n",
       "      <td>0.149161</td>\n",
       "      <td>1161.066144</td>\n",
       "    </tr>\n",
       "    <tr>\n",
       "      <td>min</td>\n",
       "      <td>1.000333e+07</td>\n",
       "      <td>161.150000</td>\n",
       "      <td>32.000000</td>\n",
       "      <td>33.880000</td>\n",
       "      <td>NaN</td>\n",
       "      <td>0.157548</td>\n",
       "      <td>0.164187</td>\n",
       "      <td>16.000000</td>\n",
       "      <td>3.000000</td>\n",
       "      <td>0.052632</td>\n",
       "      <td>0.000000</td>\n",
       "    </tr>\n",
       "    <tr>\n",
       "      <td>25%</td>\n",
       "      <td>9.520143e+07</td>\n",
       "      <td>192.580000</td>\n",
       "      <td>126.000000</td>\n",
       "      <td>132.397500</td>\n",
       "      <td>NaN</td>\n",
       "      <td>0.728995</td>\n",
       "      <td>0.517123</td>\n",
       "      <td>90.000000</td>\n",
       "      <td>41.250000</td>\n",
       "      <td>0.414789</td>\n",
       "      <td>0.000000</td>\n",
       "    </tr>\n",
       "    <tr>\n",
       "      <td>50%</td>\n",
       "      <td>2.538256e+08</td>\n",
       "      <td>254.925000</td>\n",
       "      <td>248.000000</td>\n",
       "      <td>234.190000</td>\n",
       "      <td>NaN</td>\n",
       "      <td>1.310063</td>\n",
       "      <td>0.776681</td>\n",
       "      <td>167.500000</td>\n",
       "      <td>76.000000</td>\n",
       "      <td>0.533124</td>\n",
       "      <td>388.500000</td>\n",
       "    </tr>\n",
       "    <tr>\n",
       "      <td>75%</td>\n",
       "      <td>1.183312e+10</td>\n",
       "      <td>402.797500</td>\n",
       "      <td>472.250000</td>\n",
       "      <td>430.400000</td>\n",
       "      <td>NaN</td>\n",
       "      <td>2.090618</td>\n",
       "      <td>1.170279</td>\n",
       "      <td>309.250000</td>\n",
       "      <td>169.750000</td>\n",
       "      <td>0.631627</td>\n",
       "      <td>1077.250000</td>\n",
       "    </tr>\n",
       "    <tr>\n",
       "      <td>max</td>\n",
       "      <td>5.216341e+11</td>\n",
       "      <td>5714.330000</td>\n",
       "      <td>17306.000000</td>\n",
       "      <td>9912.340000</td>\n",
       "      <td>NaN</td>\n",
       "      <td>5.852424</td>\n",
       "      <td>4.101981</td>\n",
       "      <td>13989.000000</td>\n",
       "      <td>10587.000000</td>\n",
       "      <td>0.942308</td>\n",
       "      <td>9748.000000</td>\n",
       "    </tr>\n",
       "  </tbody>\n",
       "</table>\n",
       "</div>"
      ],
      "text/plain": [
       "         Keyword ID         Cost        Clicks      Revenue  RPC         CPC  \\\n",
       "count  4.780000e+02   478.000000    478.000000   478.000000  0.0  478.000000   \n",
       "mean   4.396471e+10   409.357552    432.062762   373.196025  NaN    1.583785   \n",
       "std    1.080848e+11   510.001194    940.962438   584.998029  NaN    1.114576   \n",
       "min    1.000333e+07   161.150000     32.000000    33.880000  NaN    0.157548   \n",
       "25%    9.520143e+07   192.580000    126.000000   132.397500  NaN    0.728995   \n",
       "50%    2.538256e+08   254.925000    248.000000   234.190000  NaN    1.310063   \n",
       "75%    1.183312e+10   402.797500    472.250000   430.400000  NaN    2.090618   \n",
       "max    5.216341e+11  5714.330000  17306.000000  9912.340000  NaN    5.852424   \n",
       "\n",
       "             ROAS  Total Clickouts  Tracked Clickouts  Tracking Coverage  \\\n",
       "count  478.000000       478.000000         478.000000         478.000000   \n",
       "mean     0.944025       303.778243         177.163180           0.520281   \n",
       "std      0.588439       722.754712         531.318926           0.149161   \n",
       "min      0.164187        16.000000           3.000000           0.052632   \n",
       "25%      0.517123        90.000000          41.250000           0.414789   \n",
       "50%      0.776681       167.500000          76.000000           0.533124   \n",
       "75%      1.170279       309.250000         169.750000           0.631627   \n",
       "max      4.101981     13989.000000       10587.000000           0.942308   \n",
       "\n",
       "       Booking Value  \n",
       "count     478.000000  \n",
       "mean      807.102510  \n",
       "std      1161.066144  \n",
       "min         0.000000  \n",
       "25%         0.000000  \n",
       "50%       388.500000  \n",
       "75%      1077.250000  \n",
       "max      9748.000000  "
      ]
     },
     "execution_count": 4,
     "metadata": {},
     "output_type": "execute_result"
    }
   ],
   "source": [
    "bm_data.describe()"
   ]
  },
  {
   "cell_type": "code",
   "execution_count": 5,
   "metadata": {},
   "outputs": [
    {
     "data": {
      "text/html": [
       "<div>\n",
       "<style scoped>\n",
       "    .dataframe tbody tr th:only-of-type {\n",
       "        vertical-align: middle;\n",
       "    }\n",
       "\n",
       "    .dataframe tbody tr th {\n",
       "        vertical-align: top;\n",
       "    }\n",
       "\n",
       "    .dataframe thead th {\n",
       "        text-align: right;\n",
       "    }\n",
       "</style>\n",
       "<table border=\"1\" class=\"dataframe\">\n",
       "  <thead>\n",
       "    <tr style=\"text-align: right;\">\n",
       "      <th></th>\n",
       "      <th>Keyword ID</th>\n",
       "      <th>Keyword Category</th>\n",
       "      <th>Country</th>\n",
       "      <th>Device</th>\n",
       "      <th>Cost</th>\n",
       "      <th>Clicks</th>\n",
       "      <th>Revenue</th>\n",
       "      <th>RPC</th>\n",
       "      <th>CPC</th>\n",
       "      <th>ROAS</th>\n",
       "      <th>Total Clickouts</th>\n",
       "      <th>Tracked Clickouts</th>\n",
       "      <th>Tracking Coverage</th>\n",
       "      <th>Booking Value</th>\n",
       "    </tr>\n",
       "  </thead>\n",
       "  <tbody>\n",
       "    <tr>\n",
       "      <td>293</td>\n",
       "      <td>297709444307</td>\n",
       "      <td>A</td>\n",
       "      <td>US</td>\n",
       "      <td>desktop</td>\n",
       "      <td>225.86</td>\n",
       "      <td>61</td>\n",
       "      <td>214.28</td>\n",
       "      <td>3.512787</td>\n",
       "      <td>3.702623</td>\n",
       "      <td>0.948729</td>\n",
       "      <td>70</td>\n",
       "      <td>39</td>\n",
       "      <td>0.557143</td>\n",
       "      <td>881</td>\n",
       "    </tr>\n",
       "    <tr>\n",
       "      <td>247</td>\n",
       "      <td>294306019</td>\n",
       "      <td>A</td>\n",
       "      <td>US</td>\n",
       "      <td>desktop</td>\n",
       "      <td>250.44</td>\n",
       "      <td>81</td>\n",
       "      <td>278.49</td>\n",
       "      <td>3.438148</td>\n",
       "      <td>3.091852</td>\n",
       "      <td>1.112003</td>\n",
       "      <td>97</td>\n",
       "      <td>58</td>\n",
       "      <td>0.597938</td>\n",
       "      <td>962</td>\n",
       "    </tr>\n",
       "    <tr>\n",
       "      <td>325</td>\n",
       "      <td>296475442491</td>\n",
       "      <td>A</td>\n",
       "      <td>US</td>\n",
       "      <td>desktop</td>\n",
       "      <td>212.37</td>\n",
       "      <td>76</td>\n",
       "      <td>227.75</td>\n",
       "      <td>2.996711</td>\n",
       "      <td>2.794342</td>\n",
       "      <td>1.072421</td>\n",
       "      <td>89</td>\n",
       "      <td>55</td>\n",
       "      <td>0.617978</td>\n",
       "      <td>1603</td>\n",
       "    </tr>\n",
       "    <tr>\n",
       "      <td>233</td>\n",
       "      <td>3398507837</td>\n",
       "      <td>A</td>\n",
       "      <td>US</td>\n",
       "      <td>desktop</td>\n",
       "      <td>258.95</td>\n",
       "      <td>48</td>\n",
       "      <td>125.32</td>\n",
       "      <td>2.610833</td>\n",
       "      <td>5.394792</td>\n",
       "      <td>0.483954</td>\n",
       "      <td>49</td>\n",
       "      <td>22</td>\n",
       "      <td>0.448980</td>\n",
       "      <td>1370</td>\n",
       "    </tr>\n",
       "    <tr>\n",
       "      <td>472</td>\n",
       "      <td>14360282</td>\n",
       "      <td>A</td>\n",
       "      <td>US</td>\n",
       "      <td>desktop</td>\n",
       "      <td>161.76</td>\n",
       "      <td>32</td>\n",
       "      <td>82.74</td>\n",
       "      <td>2.585625</td>\n",
       "      <td>5.055000</td>\n",
       "      <td>0.511499</td>\n",
       "      <td>21</td>\n",
       "      <td>13</td>\n",
       "      <td>0.619048</td>\n",
       "      <td>1498</td>\n",
       "    </tr>\n",
       "  </tbody>\n",
       "</table>\n",
       "</div>"
      ],
      "text/plain": [
       "       Keyword ID Keyword Category Country   Device    Cost  Clicks  Revenue  \\\n",
       "293  297709444307                A      US  desktop  225.86      61   214.28   \n",
       "247     294306019                A      US  desktop  250.44      81   278.49   \n",
       "325  296475442491                A      US  desktop  212.37      76   227.75   \n",
       "233    3398507837                A      US  desktop  258.95      48   125.32   \n",
       "472      14360282                A      US  desktop  161.76      32    82.74   \n",
       "\n",
       "          RPC       CPC      ROAS  Total Clickouts  Tracked Clickouts  \\\n",
       "293  3.512787  3.702623  0.948729               70                 39   \n",
       "247  3.438148  3.091852  1.112003               97                 58   \n",
       "325  2.996711  2.794342  1.072421               89                 55   \n",
       "233  2.610833  5.394792  0.483954               49                 22   \n",
       "472  2.585625  5.055000  0.511499               21                 13   \n",
       "\n",
       "     Tracking Coverage  Booking Value  \n",
       "293           0.557143            881  \n",
       "247           0.597938            962  \n",
       "325           0.617978           1603  \n",
       "233           0.448980           1370  \n",
       "472           0.619048           1498  "
      ]
     },
     "execution_count": 5,
     "metadata": {},
     "output_type": "execute_result"
    }
   ],
   "source": [
    "bm_data['RPC'] = bm_data['Revenue']/bm_data['Clicks']\n",
    "bm_data.sort_index(by='RPC', ascending=False).head()"
   ]
  },
  {
   "cell_type": "markdown",
   "metadata": {},
   "source": [
    "**a) Answer**: `297709444307`, `294306019` and `296475442491` are the top performing keywords"
   ]
  },
  {
   "cell_type": "markdown",
   "metadata": {},
   "source": [
    "## b) 1."
   ]
  },
  {
   "cell_type": "code",
   "execution_count": 6,
   "metadata": {},
   "outputs": [
    {
     "name": "stdout",
     "output_type": "stream",
     "text": [
      "451.2437626342651\n"
     ]
    }
   ],
   "source": [
    "Overall_ROAS = bm_data['ROAS'].sum()\n",
    "print(Overall_ROAS)"
   ]
  },
  {
   "cell_type": "markdown",
   "metadata": {},
   "source": [
    "**Answer:** No. Our target is `478.00`. We're falling short."
   ]
  },
  {
   "cell_type": "markdown",
   "metadata": {},
   "source": [
    "## b) 2."
   ]
  },
  {
   "cell_type": "code",
   "execution_count": 7,
   "metadata": {},
   "outputs": [
    {
     "data": {
      "text/plain": [
       "<matplotlib.axes._subplots.AxesSubplot at 0x181895275c8>"
      ]
     },
     "execution_count": 7,
     "metadata": {},
     "output_type": "execute_result"
    },
    {
     "data": {
      "image/png": "[encoded data removed]",
      "text/plain": [
       "<Figure size 432x288 with 1 Axes>"
      ]
     },
     "metadata": {
      "needs_background": "light"
     },
     "output_type": "display_data"
    }
   ],
   "source": [
    "%matplotlib inline\n",
    "bm_data['ROAS'].hist(bins=50)"
   ]
  },
  {
   "cell_type": "code",
   "execution_count": 8,
   "metadata": {},
   "outputs": [
    {
     "data": {
      "text/plain": [
       "Text(0, 0.5, 'ROAS')"
      ]
     },
     "execution_count": 8,
     "metadata": {},
     "output_type": "execute_result"
    },
    {
     "data": {
      "image/png": "[encoded data removed]",
      "text/plain": [
       "<Figure size 432x288 with 1 Axes>"
      ]
     },
     "metadata": {
      "needs_background": "light"
     },
     "output_type": "display_data"
    }
   ],
   "source": [
    "ROAS_country_plot = bm_data.groupby(['Country'])['ROAS'].mean().plot(kind='bar', title='ROAS per country', grid=True, colormap='Accent_r')\n",
    "ROAS_country_plot.set_xlabel('Country')\n",
    "ROAS_country_plot.set_ylabel('ROAS')"
   ]
  },
  {
   "cell_type": "code",
   "execution_count": 9,
   "metadata": {},
   "outputs": [
    {
     "data": {
      "text/plain": [
       "Text(0, 0.5, 'ROAS')"
      ]
     },
     "execution_count": 9,
     "metadata": {},
     "output_type": "execute_result"
    },
    {
     "data": {
      "image/png": "[encoded data removed]",
      "text/plain": [
       "<Figure size 432x288 with 1 Axes>"
      ]
     },
     "metadata": {
      "needs_background": "light"
     },
     "output_type": "display_data"
    }
   ],
   "source": [
    "ROAS_plot = bm_data.groupby(['Country', 'Device'])['ROAS'].mean().plot(kind='bar', title='ROAS per device per country', grid=True)\n",
    "ROAS_plot.set_xlabel('Country & Device')\n",
    "ROAS_plot.set_ylabel('ROAS')"
   ]
  },
  {
   "cell_type": "markdown",
   "metadata": {},
   "source": [
    "**Answer:** It is evident that US market, particularly in desktop devices is doing poorly. We may focus on generating either more revenue in this region on this device, by adding more tariffs or better SEO. This will raise the revenues and hence the overall ROAS to a more achievable 100%."
   ]
  },
  {
   "cell_type": "markdown",
   "metadata": {},
   "source": [
    "## b) 3."
   ]
  },
  {
   "cell_type": "markdown",
   "metadata": {},
   "source": [
    "## c) 1."
   ]
  },
  {
   "cell_type": "markdown",
   "metadata": {},
   "source": [
    "**Answer:** I understand the scenario as follows: \n",
    "`Total Click-outs`: Number of clicks on the booking website like `trivago.com` when I search say `Budapest` with dates.\n",
    "`Tracked Click-outs`: Number of clicks tracked to hotel website. E.g. from `trivago.com` to `hotelbudapest.com`.\n",
    "\n",
    "The coverage is below 100% because I as a user may not go on to book hotel. I'm simply checking out the cost and availability of a tour package, which is often the case.\n",
    "\n",
    "I may also be using it to compare prices with a rival website.\n",
    "\n",
    "So for above two reasons, the `Tracked click-outs` won't be matching the `Total click-outs` thereby reducing the coverage."
   ]
  },
  {
   "cell_type": "markdown",
   "metadata": {},
   "source": [
    "## c) 2."
   ]
  },
  {
   "cell_type": "markdown",
   "metadata": {},
   "source": [
    "**Answer:** It varies on keyword because the keyword determines where the user wants to stay. Keywords correspond to locations. E.g. if a user has a certain budget in mind for spending on accommodation, he may choose different locations. A stay in Manhattan will likely be more expensive than a stay in New Jersey. Therefore a certain user may choose to go with a cheaper option, thereby increasing coverage of some cheaper locations, ergo keywords than of of the more expensive ones. This also sheds some light on the user behaviour. We can correlate spending patterns with locations."
   ]
  },
  {
   "cell_type": "code",
   "execution_count": 10,
   "metadata": {},
   "outputs": [
    {
     "data": {
      "text/plain": [
       "<matplotlib.axes._subplots.AxesSubplot at 0x1818aacb748>"
      ]
     },
     "execution_count": 10,
     "metadata": {},
     "output_type": "execute_result"
    },
    {
     "data": {
      "image/png": "[encoded data removed]",
      "text/plain": [
       "<Figure size 432x288 with 1 Axes>"
      ]
     },
     "metadata": {
      "needs_background": "light"
     },
     "output_type": "display_data"
    }
   ],
   "source": [
    "bm_data.plot.scatter(x='Revenue', y='Cost', title='ROAS')"
   ]
  },
  {
   "cell_type": "markdown",
   "metadata": {},
   "source": [
    "## d)"
   ]
  },
  {
   "cell_type": "code",
   "execution_count": 11,
   "metadata": {},
   "outputs": [
    {
     "data": {
      "text/html": [
       "<div>\n",
       "<style scoped>\n",
       "    .dataframe tbody tr th:only-of-type {\n",
       "        vertical-align: middle;\n",
       "    }\n",
       "\n",
       "    .dataframe tbody tr th {\n",
       "        vertical-align: top;\n",
       "    }\n",
       "\n",
       "    .dataframe thead th {\n",
       "        text-align: right;\n",
       "    }\n",
       "</style>\n",
       "<table border=\"1\" class=\"dataframe\">\n",
       "  <thead>\n",
       "    <tr style=\"text-align: right;\">\n",
       "      <th></th>\n",
       "      <th>Keyword ID</th>\n",
       "      <th>Keyword Category</th>\n",
       "      <th>Country</th>\n",
       "      <th>Device</th>\n",
       "      <th>Cost</th>\n",
       "      <th>Clicks</th>\n",
       "      <th>Revenue</th>\n",
       "      <th>RPC</th>\n",
       "      <th>CPC</th>\n",
       "      <th>ROAS</th>\n",
       "      <th>Total Clickouts</th>\n",
       "      <th>Tracked Clickouts</th>\n",
       "      <th>Tracking Coverage</th>\n",
       "      <th>Booking Value</th>\n",
       "      <th>BVPtCO</th>\n",
       "    </tr>\n",
       "  </thead>\n",
       "  <tbody>\n",
       "    <tr>\n",
       "      <td>418</td>\n",
       "      <td>11833117594</td>\n",
       "      <td>A</td>\n",
       "      <td>US</td>\n",
       "      <td>phone</td>\n",
       "      <td>174.92</td>\n",
       "      <td>144</td>\n",
       "      <td>132.45</td>\n",
       "      <td>0.919792</td>\n",
       "      <td>1.214722</td>\n",
       "      <td>0.757203</td>\n",
       "      <td>69</td>\n",
       "      <td>23</td>\n",
       "      <td>0.333333</td>\n",
       "      <td>0</td>\n",
       "      <td>0.000000</td>\n",
       "    </tr>\n",
       "    <tr>\n",
       "      <td>422</td>\n",
       "      <td>116154900445</td>\n",
       "      <td>A</td>\n",
       "      <td>Germany</td>\n",
       "      <td>phone</td>\n",
       "      <td>174.15</td>\n",
       "      <td>694</td>\n",
       "      <td>714.36</td>\n",
       "      <td>1.029337</td>\n",
       "      <td>0.250937</td>\n",
       "      <td>4.101981</td>\n",
       "      <td>541</td>\n",
       "      <td>409</td>\n",
       "      <td>0.756007</td>\n",
       "      <td>0</td>\n",
       "      <td>0.000000</td>\n",
       "    </tr>\n",
       "    <tr>\n",
       "      <td>182</td>\n",
       "      <td>177481838</td>\n",
       "      <td>A</td>\n",
       "      <td>Germany</td>\n",
       "      <td>desktop</td>\n",
       "      <td>309.90</td>\n",
       "      <td>142</td>\n",
       "      <td>245.12</td>\n",
       "      <td>1.726197</td>\n",
       "      <td>2.182394</td>\n",
       "      <td>0.790965</td>\n",
       "      <td>179</td>\n",
       "      <td>72</td>\n",
       "      <td>0.402235</td>\n",
       "      <td>273</td>\n",
       "      <td>3.791667</td>\n",
       "    </tr>\n",
       "  </tbody>\n",
       "</table>\n",
       "</div>"
      ],
      "text/plain": [
       "       Keyword ID Keyword Category  Country   Device    Cost  Clicks  Revenue  \\\n",
       "418   11833117594                A       US    phone  174.92     144   132.45   \n",
       "422  116154900445                A  Germany    phone  174.15     694   714.36   \n",
       "182     177481838                A  Germany  desktop  309.90     142   245.12   \n",
       "\n",
       "          RPC       CPC      ROAS  Total Clickouts  Tracked Clickouts  \\\n",
       "418  0.919792  1.214722  0.757203               69                 23   \n",
       "422  1.029337  0.250937  4.101981              541                409   \n",
       "182  1.726197  2.182394  0.790965              179                 72   \n",
       "\n",
       "     Tracking Coverage  Booking Value    BVPtCO  \n",
       "418           0.333333              0  0.000000  \n",
       "422           0.756007              0  0.000000  \n",
       "182           0.402235            273  3.791667  "
      ]
     },
     "execution_count": 11,
     "metadata": {},
     "output_type": "execute_result"
    }
   ],
   "source": [
    "bm_data['BVPtCO'] = bm_data['Booking Value']/bm_data['Tracked Clickouts']\n",
    "bm_data.sample(3)"
   ]
  },
  {
   "cell_type": "code",
   "execution_count": 13,
   "metadata": {},
   "outputs": [],
   "source": [
    "bm_data.set_index('Keyword ID', inplace=True)"
   ]
  },
  {
   "cell_type": "code",
   "execution_count": 29,
   "metadata": {},
   "outputs": [
    {
     "data": {
      "text/plain": [
       "<matplotlib.axes._subplots.AxesSubplot at 0x1818dd16808>"
      ]
     },
     "execution_count": 29,
     "metadata": {},
     "output_type": "execute_result"
    },
    {
     "data": {
      "image/png": "[encoded data removed]",
      "text/plain": [
       "<Figure size 432x288 with 1 Axes>"
      ]
     },
     "metadata": {
      "needs_background": "light"
     },
     "output_type": "display_data"
    }
   ],
   "source": [
    "bm_data.sample(10).groupby(['Keyword ID'])['BVPtCO', 'ROAS'].mean().plot(kind='bar')"
   ]
  },
  {
   "cell_type": "code",
   "execution_count": 37,
   "metadata": {},
   "outputs": [
    {
     "data": {
      "text/plain": [
       "<matplotlib.axes._subplots.AxesSubplot at 0x1818eb6d308>"
      ]
     },
     "execution_count": 37,
     "metadata": {},
     "output_type": "execute_result"
    },
    {
     "data": {
      "image/png": "[encoded data removed]",
      "text/plain": [
       "<Figure size 432x288 with 1 Axes>"
      ]
     },
     "metadata": {
      "needs_background": "light"
     },
     "output_type": "display_data"
    }
   ],
   "source": [
    "bm_data.sort_values(by='ROAS', ascending=False).head(10).groupby(['Keyword ID'])['BVPtCO', 'ROAS'].mean().plot(kind='bar')"
   ]
  },
  {
   "cell_type": "markdown",
   "metadata": {},
   "source": [
    "**Answer:** No I wouldn't for following three reasons:\n",
    "1. The `BVPtCO` metric does not exist for every keyword. It is not a reliable and all-encompassing metric.\n",
    "2. Even if a keyword generates a certain greater than 1 `ROAS`, like for keyword ID `41518240` here, it has a `0` `BVPtCO`. Hence this metric will miss out key performances.\n",
    "3. It has little correlation with highest performing keywords."
   ]
  },
  {
   "cell_type": "markdown",
   "metadata": {},
   "source": [
    "## e) "
   ]
  },
  {
   "cell_type": "code",
   "execution_count": 14,
   "metadata": {},
   "outputs": [
    {
     "data": {
      "text/html": [
       "<div>\n",
       "<style scoped>\n",
       "    .dataframe tbody tr th:only-of-type {\n",
       "        vertical-align: middle;\n",
       "    }\n",
       "\n",
       "    .dataframe tbody tr th {\n",
       "        vertical-align: top;\n",
       "    }\n",
       "\n",
       "    .dataframe thead th {\n",
       "        text-align: right;\n",
       "    }\n",
       "</style>\n",
       "<table border=\"1\" class=\"dataframe\">\n",
       "  <thead>\n",
       "    <tr style=\"text-align: right;\">\n",
       "      <th></th>\n",
       "      <th>Keyword Category</th>\n",
       "      <th>Country</th>\n",
       "      <th>Device</th>\n",
       "      <th>Cost</th>\n",
       "      <th>Clicks</th>\n",
       "      <th>Revenue</th>\n",
       "      <th>RPC</th>\n",
       "      <th>CPC</th>\n",
       "      <th>ROAS</th>\n",
       "      <th>Total Clickouts</th>\n",
       "      <th>Tracked Clickouts</th>\n",
       "      <th>Tracking Coverage</th>\n",
       "      <th>Booking Value</th>\n",
       "      <th>BVPtCO</th>\n",
       "    </tr>\n",
       "    <tr>\n",
       "      <th>Keyword ID</th>\n",
       "      <th></th>\n",
       "      <th></th>\n",
       "      <th></th>\n",
       "      <th></th>\n",
       "      <th></th>\n",
       "      <th></th>\n",
       "      <th></th>\n",
       "      <th></th>\n",
       "      <th></th>\n",
       "      <th></th>\n",
       "      <th></th>\n",
       "      <th></th>\n",
       "      <th></th>\n",
       "      <th></th>\n",
       "    </tr>\n",
       "  </thead>\n",
       "  <tbody>\n",
       "    <tr>\n",
       "      <td>313797970731</td>\n",
       "      <td>A</td>\n",
       "      <td>Spain</td>\n",
       "      <td>phone</td>\n",
       "      <td>237.14</td>\n",
       "      <td>286</td>\n",
       "      <td>158.62</td>\n",
       "      <td>0.554615</td>\n",
       "      <td>0.829161</td>\n",
       "      <td>0.668888</td>\n",
       "      <td>294</td>\n",
       "      <td>137</td>\n",
       "      <td>0.465986</td>\n",
       "      <td>340</td>\n",
       "      <td>2.481752</td>\n",
       "    </tr>\n",
       "    <tr>\n",
       "      <td>1763094470</td>\n",
       "      <td>A</td>\n",
       "      <td>Germany</td>\n",
       "      <td>phone</td>\n",
       "      <td>598.27</td>\n",
       "      <td>828</td>\n",
       "      <td>599.60</td>\n",
       "      <td>0.724155</td>\n",
       "      <td>0.722548</td>\n",
       "      <td>1.002223</td>\n",
       "      <td>540</td>\n",
       "      <td>287</td>\n",
       "      <td>0.531481</td>\n",
       "      <td>0</td>\n",
       "      <td>0.000000</td>\n",
       "    </tr>\n",
       "    <tr>\n",
       "      <td>15043640</td>\n",
       "      <td>A</td>\n",
       "      <td>US</td>\n",
       "      <td>desktop</td>\n",
       "      <td>1279.14</td>\n",
       "      <td>283</td>\n",
       "      <td>465.38</td>\n",
       "      <td>1.644452</td>\n",
       "      <td>4.519929</td>\n",
       "      <td>0.363823</td>\n",
       "      <td>199</td>\n",
       "      <td>114</td>\n",
       "      <td>0.572864</td>\n",
       "      <td>4346</td>\n",
       "      <td>38.122807</td>\n",
       "    </tr>\n",
       "  </tbody>\n",
       "</table>\n",
       "</div>"
      ],
      "text/plain": [
       "             Keyword Category  Country   Device     Cost  Clicks  Revenue  \\\n",
       "Keyword ID                                                                  \n",
       "313797970731                A    Spain    phone   237.14     286   158.62   \n",
       "1763094470                  A  Germany    phone   598.27     828   599.60   \n",
       "15043640                    A       US  desktop  1279.14     283   465.38   \n",
       "\n",
       "                   RPC       CPC      ROAS  Total Clickouts  \\\n",
       "Keyword ID                                                    \n",
       "313797970731  0.554615  0.829161  0.668888              294   \n",
       "1763094470    0.724155  0.722548  1.002223              540   \n",
       "15043640      1.644452  4.519929  0.363823              199   \n",
       "\n",
       "              Tracked Clickouts  Tracking Coverage  Booking Value     BVPtCO  \n",
       "Keyword ID                                                                    \n",
       "313797970731                137           0.465986            340   2.481752  \n",
       "1763094470                  287           0.531481              0   0.000000  \n",
       "15043640                    114           0.572864           4346  38.122807  "
      ]
     },
     "execution_count": 14,
     "metadata": {},
     "output_type": "execute_result"
    }
   ],
   "source": [
    "bm_data.sample(3)"
   ]
  },
  {
   "cell_type": "code",
   "execution_count": 15,
   "metadata": {},
   "outputs": [
    {
     "data": {
      "text/plain": [
       "<matplotlib.axes._subplots.AxesSubplot at 0x1818ab78288>"
      ]
     },
     "execution_count": 15,
     "metadata": {},
     "output_type": "execute_result"
    },
    {
     "data": {
      "image/png": "[encoded data removed]",
      "text/plain": [
       "<Figure size 432x288 with 1 Axes>"
      ]
     },
     "metadata": {
      "needs_background": "light"
     },
     "output_type": "display_data"
    }
   ],
   "source": [
    "bm_data.groupby(['Device', 'Country'])['Booking Value'].mean().plot(kind='bar')"
   ]
  },
  {
   "cell_type": "code",
   "execution_count": null,
   "metadata": {},
   "outputs": [],
   "source": []
  },
  {
   "cell_type": "code",
   "execution_count": 16,
   "metadata": {},
   "outputs": [
    {
     "data": {
      "text/plain": [
       "<matplotlib.axes._subplots.AxesSubplot at 0x1818ac04308>"
      ]
     },
     "execution_count": 16,
     "metadata": {},
     "output_type": "execute_result"
    },
    {
     "data": {
      "image/png": "[encoded data removed]",
      "text/plain": [
       "<Figure size 432x288 with 1 Axes>"
      ]
     },
     "metadata": {
      "needs_background": "light"
     },
     "output_type": "display_data"
    }
   ],
   "source": [
    "bm_data.groupby(['Device', 'Country'])['RPC','ROAS', 'Tracking Coverage'].mean().plot(kind='bar')"
   ]
  },
  {
   "cell_type": "markdown",
   "metadata": {},
   "source": [
    "## e) 1."
   ]
  },
  {
   "cell_type": "markdown",
   "metadata": {},
   "source": [
    "**Key Observations**\n",
    "- Tracking coverage is platform agnostic.\n",
    "- Desktops in general provide a higher RPC than smartphones, with US being the biggest revenue generator\n",
    "- However when cost of adverstising is considered, then ROAS is higher on phones than desktop devices."
   ]
  }
 ],
 "metadata": {
  "kernelspec": {
   "display_name": "Python 3",
   "language": "python",
   "name": "python3"
  },
  "language_info": {
   "codemirror_mode": {
    "name": "ipython",
    "version": 3
   },
   "file_extension": ".py",
   "mimetype": "text/x-python",
   "name": "python",
   "nbconvert_exporter": "python",
   "pygments_lexer": "ipython3",
   "version": "3.7.4"
  }
 },
 "nbformat": 4,
 "nbformat_minor": 4
}
